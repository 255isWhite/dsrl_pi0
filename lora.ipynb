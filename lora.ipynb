{
 "cells": [
  {
   "cell_type": "code",
   "execution_count": 1,
   "id": "64b23231",
   "metadata": {},
   "outputs": [
    {
     "name": "stderr",
     "output_type": "stream",
     "text": [
      "2025-08-07 14:17:12.929616: E external/local_xla/xla/stream_executor/cuda/cuda_fft.cc:467] Unable to register cuFFT factory: Attempting to register factory for plugin cuFFT when one has already been registered\n",
      "WARNING: All log messages before absl::InitializeLog() is called are written to STDERR\n",
      "E0000 00:00:1754576232.944886 1648100 cuda_dnn.cc:8579] Unable to register cuDNN factory: Attempting to register factory for plugin cuDNN when one has already been registered\n",
      "E0000 00:00:1754576232.949502 1648100 cuda_blas.cc:1407] Unable to register cuBLAS factory: Attempting to register factory for plugin cuBLAS when one has already been registered\n",
      "W0000 00:00:1754576232.961571 1648100 computation_placer.cc:177] computation placer already registered. Please check linkage and avoid linking the same target more than once.\n",
      "W0000 00:00:1754576232.961587 1648100 computation_placer.cc:177] computation placer already registered. Please check linkage and avoid linking the same target more than once.\n",
      "W0000 00:00:1754576232.961588 1648100 computation_placer.cc:177] computation placer already registered. Please check linkage and avoid linking the same target more than once.\n",
      "W0000 00:00:1754576232.961590 1648100 computation_placer.cc:177] computation placer already registered. Please check linkage and avoid linking the same target more than once.\n",
      "/home/wzh/.conda/envs/dsrl_pi0/lib/python3.11/site-packages/tqdm/auto.py:21: TqdmWarning: IProgress not found. Please update jupyter and ipywidgets. See https://ipywidgets.readthedocs.io/en/stable/user_install.html\n",
      "  from .autonotebook import tqdm as notebook_tqdm\n",
      "/tmp/ipykernel_1648100/2297560519.py:40: DeprecationWarning: initialize_cache is deprecated; use set_cache_dir instead\n",
      "  compilation_cache.initialize_cache(os.path.join(home_dir, 'jax_compilation_cache'))\n"
     ]
    }
   ],
   "source": [
    "import os\n",
    "os.environ['CUDA_VISIBLE_DEVICES'] = '3'\n",
    "\n",
    "\n",
    "#! /usr/bin/env python\n",
    "import os\n",
    "# Tell XLA to use Triton GEMM, this improves steps/sec by ~30% on some GPUs from https://github.com/huggingface/gym-aloha/tree/main?tab=readme-ov-file#-gpu-rendering-egl\n",
    "xla_flags = os.environ.get('XLA_FLAGS', '')\n",
    "xla_flags += ' --xla_gpu_triton_gemm_any=True'\n",
    "os.environ['XLA_FLAGS'] = xla_flags\n",
    "\n",
    "import pathlib, copy\n",
    "\n",
    "import jax\n",
    "from jaxrl2.agents.pixel_sac.pixel_sac_learner import PixelSACLearner\n",
    "from jaxrl2.utils.general_utils import add_batch_dim\n",
    "import numpy as np\n",
    "\n",
    "import gymnasium as gym\n",
    "import gym_aloha\n",
    "from gym.spaces import Dict, Box\n",
    "\n",
    "from libero.libero import benchmark\n",
    "from libero.libero import get_libero_path\n",
    "from libero.libero.envs import OffScreenRenderEnv\n",
    "\n",
    "from jaxrl2.data import ReplayBuffer\n",
    "from jaxrl2.utils.wandb_logger import WandBLogger, create_exp_name\n",
    "import tempfile\n",
    "from functools import partial\n",
    "from examples.train_utils_sim import trajwise_alternating_training_loop\n",
    "import tensorflow as tf\n",
    "from jax.experimental.compilation_cache import compilation_cache\n",
    "\n",
    "from openpi.training import config as openpi_config\n",
    "from openpi.policies import policy_config\n",
    "from openpi.shared import download\n",
    "\n",
    "home_dir = os.environ['HOME']\n",
    "compilation_cache.initialize_cache(os.path.join(home_dir, 'jax_compilation_cache'))\n"
   ]
  },
  {
   "cell_type": "code",
   "execution_count": 2,
   "id": "270de41c",
   "metadata": {},
   "outputs": [],
   "source": [
    "config = openpi_config.get_config(\"pi0_libero_low_mem_finetune\")\n",
    "checkpoint_dir = download.maybe_download(\"/home/wzh/dsrl_pi0/openpi/openpi-assets/checkpoints/pi0_base\")"
   ]
  },
  {
   "cell_type": "code",
   "execution_count": 3,
   "id": "800a1f8e",
   "metadata": {},
   "outputs": [],
   "source": [
    "agent_dp = policy_config.create_trained_policy(config, checkpoint_dir)"
   ]
  }
 ],
 "metadata": {
  "kernelspec": {
   "display_name": "dsrl_pi0",
   "language": "python",
   "name": "python3"
  },
  "language_info": {
   "codemirror_mode": {
    "name": "ipython",
    "version": 3
   },
   "file_extension": ".py",
   "mimetype": "text/x-python",
   "name": "python",
   "nbconvert_exporter": "python",
   "pygments_lexer": "ipython3",
   "version": "3.11.11"
  }
 },
 "nbformat": 4,
 "nbformat_minor": 5
}
